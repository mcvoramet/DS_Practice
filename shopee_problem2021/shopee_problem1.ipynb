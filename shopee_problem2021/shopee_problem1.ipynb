{
 "cells": [
  {
   "cell_type": "code",
   "execution_count": 1,
   "metadata": {},
   "outputs": [],
   "source": [
    "import json"
   ]
  },
  {
   "cell_type": "code",
   "execution_count": 6,
   "metadata": {},
   "outputs": [],
   "source": [
    "with open('contacts.json', 'r') as json_file:\n",
    "    json_data = json.load(json_file)"
   ]
  },
  {
   "cell_type": "code",
   "execution_count": 7,
   "metadata": {},
   "outputs": [
    {
     "data": {
      "text/plain": [
       "list"
      ]
     },
     "execution_count": 7,
     "metadata": {},
     "output_type": "execute_result"
    }
   ],
   "source": [
    "type(json_data)"
   ]
  },
  {
   "cell_type": "code",
   "execution_count": 9,
   "metadata": {},
   "outputs": [],
   "source": [
    "import pandas as pd"
   ]
  },
  {
   "cell_type": "code",
   "execution_count": 12,
   "metadata": {},
   "outputs": [],
   "source": [
    "contacts_df = pd.DataFrame(json_data)"
   ]
  },
  {
   "cell_type": "code",
   "execution_count": 13,
   "metadata": {},
   "outputs": [
    {
     "data": {
      "text/html": [
       "<div>\n",
       "<style scoped>\n",
       "    .dataframe tbody tr th:only-of-type {\n",
       "        vertical-align: middle;\n",
       "    }\n",
       "\n",
       "    .dataframe tbody tr th {\n",
       "        vertical-align: top;\n",
       "    }\n",
       "\n",
       "    .dataframe thead th {\n",
       "        text-align: right;\n",
       "    }\n",
       "</style>\n",
       "<table border=\"1\" class=\"dataframe\">\n",
       "  <thead>\n",
       "    <tr style=\"text-align: right;\">\n",
       "      <th></th>\n",
       "      <th>Id</th>\n",
       "      <th>Email</th>\n",
       "      <th>Phone</th>\n",
       "      <th>Contacts</th>\n",
       "      <th>OrderId</th>\n",
       "    </tr>\n",
       "  </thead>\n",
       "  <tbody>\n",
       "    <tr>\n",
       "      <th>0</th>\n",
       "      <td>0</td>\n",
       "      <td>gkzAbIy@qq.com</td>\n",
       "      <td></td>\n",
       "      <td>1</td>\n",
       "      <td></td>\n",
       "    </tr>\n",
       "    <tr>\n",
       "      <th>1</th>\n",
       "      <td>1</td>\n",
       "      <td></td>\n",
       "      <td>329442681752</td>\n",
       "      <td>4</td>\n",
       "      <td>vDDJJcxfLtSfkooPhbYnJdxov</td>\n",
       "    </tr>\n",
       "    <tr>\n",
       "      <th>2</th>\n",
       "      <td>2</td>\n",
       "      <td></td>\n",
       "      <td>9125983679</td>\n",
       "      <td>0</td>\n",
       "      <td></td>\n",
       "    </tr>\n",
       "    <tr>\n",
       "      <th>3</th>\n",
       "      <td>3</td>\n",
       "      <td>mdllpYmE@gmail.com</td>\n",
       "      <td></td>\n",
       "      <td>0</td>\n",
       "      <td>bHquEnCbbsGLqllwryxPsNOxa</td>\n",
       "    </tr>\n",
       "    <tr>\n",
       "      <th>4</th>\n",
       "      <td>4</td>\n",
       "      <td></td>\n",
       "      <td>300364407</td>\n",
       "      <td>2</td>\n",
       "      <td></td>\n",
       "    </tr>\n",
       "  </tbody>\n",
       "</table>\n",
       "</div>"
      ],
      "text/plain": [
       "   Id               Email         Phone  Contacts                    OrderId\n",
       "0   0      gkzAbIy@qq.com                       1                           \n",
       "1   1                      329442681752         4  vDDJJcxfLtSfkooPhbYnJdxov\n",
       "2   2                        9125983679         0                           \n",
       "3   3  mdllpYmE@gmail.com                       0  bHquEnCbbsGLqllwryxPsNOxa\n",
       "4   4                         300364407         2                           "
      ]
     },
     "execution_count": 13,
     "metadata": {},
     "output_type": "execute_result"
    }
   ],
   "source": [
    "contacts_df.head()"
   ]
  },
  {
   "cell_type": "code",
   "execution_count": 2,
   "metadata": {},
   "outputs": [],
   "source": [
    "import numpy as np # linear algebra\n",
    "import pandas as pd # data processing, CSV file I/O (e.g. pd.read_csv)\n",
    "import json\n",
    "\n",
    "filepath = \"contacts.json\"\n",
    "\n",
    "with open(filepath) as jsonfile:\n",
    "    data = json.load(jsonfile)\n",
    "\n",
    "df = pd.DataFrame(data)\n",
    "df = df.replace({'':None})\n",
    "df3 = df\n",
    "df = df.set_index('Id')\n",
    "df4 = df\n",
    "df2= df['Contacts']\n",
    "df = df.drop('Contacts',axis=1)\n",
    "\n",
    "class Node():\n",
    "    def __init__(self, state, parent, action):\n",
    "        self.state = state\n",
    "        self.parent = parent\n",
    "        self.action = action\n",
    "\n",
    "\n",
    "class StackFrontier():\n",
    "    def __init__(self):\n",
    "        self.frontier = []\n",
    "\n",
    "    def add(self, node):\n",
    "        self.frontier.append(node)\n",
    "\n",
    "    def contains_state(self, state):\n",
    "        return any(node.state == state for node in self.frontier)\n",
    "\n",
    "    def empty(self):\n",
    "        return len(self.frontier) == 0\n",
    "\n",
    "    def remove(self):\n",
    "        if self.empty():\n",
    "            raise Exception(\"empty frontier\")\n",
    "        else:\n",
    "            node = self.frontier[-1]\n",
    "            self.frontier = self.frontier[:-1]\n",
    "            return node\n",
    "\n",
    "def clus(source):\n",
    "    \"\"\"\n",
    "    source = df Email Phone Contacts OrderId\n",
    "    \"\"\"\n",
    "    ans = []\n",
    "    count = 0\n",
    "    qu = StackFrontier()\n",
    "    quDrop = []\n",
    "    qu.add(Node(source[0],None,getSame(source)['Id']))\n",
    "    while (qu.empty() != True):\n",
    "        now = qu.remove()\n",
    "        count = count+df3.loc[df3['Id']==now.state].values[0][3]\n",
    "        ans.append(now.state)\n",
    "        quDrop.append(now.state)\n",
    "        for i in now.action:\n",
    "            if ((qu.contains_state(i) == False) & (i not in quDrop)):\n",
    "                qu.add(Node(i,now,getSame(df3.loc[df3['Id']==i].values[0])['Id']))\n",
    "    ans.sort()\n",
    "    \n",
    "    return [ans,count]\n",
    "\n",
    "def getSame(obj):    \n",
    "    return df3.loc[(df3['Email'] == obj[1]) | (df3['Phone'] == obj[2]) | (df3['OrderId']==obj[4])]\n",
    "\n",
    "a,b = clus(df3.iloc[1])"
   ]
  },
  {
   "cell_type": "code",
   "execution_count": 3,
   "metadata": {},
   "outputs": [
    {
     "data": {
      "text/plain": [
       "[1, 2458, 98519, 115061, 140081, 165605, 476346]"
      ]
     },
     "execution_count": 3,
     "metadata": {},
     "output_type": "execute_result"
    }
   ],
   "source": [
    "a"
   ]
  },
  {
   "cell_type": "code",
   "execution_count": 4,
   "metadata": {},
   "outputs": [
    {
     "data": {
      "text/plain": [
       "12"
      ]
     },
     "execution_count": 4,
     "metadata": {},
     "output_type": "execute_result"
    }
   ],
   "source": [
    "b"
   ]
  },
  {
   "cell_type": "code",
   "execution_count": 7,
   "metadata": {},
   "outputs": [
    {
     "data": {
      "text/html": [
       "<div>\n",
       "<style scoped>\n",
       "    .dataframe tbody tr th:only-of-type {\n",
       "        vertical-align: middle;\n",
       "    }\n",
       "\n",
       "    .dataframe tbody tr th {\n",
       "        vertical-align: top;\n",
       "    }\n",
       "\n",
       "    .dataframe thead th {\n",
       "        text-align: right;\n",
       "    }\n",
       "</style>\n",
       "<table border=\"1\" class=\"dataframe\">\n",
       "  <thead>\n",
       "    <tr style=\"text-align: right;\">\n",
       "      <th></th>\n",
       "      <th>Id</th>\n",
       "      <th>Email</th>\n",
       "      <th>Phone</th>\n",
       "      <th>Contacts</th>\n",
       "      <th>OrderId</th>\n",
       "    </tr>\n",
       "  </thead>\n",
       "  <tbody>\n",
       "    <tr>\n",
       "      <th>1</th>\n",
       "      <td>1</td>\n",
       "      <td>None</td>\n",
       "      <td>329442681752</td>\n",
       "      <td>4</td>\n",
       "      <td>vDDJJcxfLtSfkooPhbYnJdxov</td>\n",
       "    </tr>\n",
       "    <tr>\n",
       "      <th>2458</th>\n",
       "      <td>2458</td>\n",
       "      <td>ULziZaVD@hotmail.com</td>\n",
       "      <td>069988936</td>\n",
       "      <td>1</td>\n",
       "      <td>vDDJJcxfLtSfkooPhbYnJdxov</td>\n",
       "    </tr>\n",
       "    <tr>\n",
       "      <th>476346</th>\n",
       "      <td>476346</td>\n",
       "      <td>WXJDcOYGapCzchhwH@gmail.com</td>\n",
       "      <td>None</td>\n",
       "      <td>0</td>\n",
       "      <td>vDDJJcxfLtSfkooPhbYnJdxov</td>\n",
       "    </tr>\n",
       "  </tbody>\n",
       "</table>\n",
       "</div>"
      ],
      "text/plain": [
       "            Id                        Email         Phone  Contacts  \\\n",
       "1            1                         None  329442681752         4   \n",
       "2458      2458         ULziZaVD@hotmail.com     069988936         1   \n",
       "476346  476346  WXJDcOYGapCzchhwH@gmail.com          None         0   \n",
       "\n",
       "                          OrderId  \n",
       "1       vDDJJcxfLtSfkooPhbYnJdxov  \n",
       "2458    vDDJJcxfLtSfkooPhbYnJdxov  \n",
       "476346  vDDJJcxfLtSfkooPhbYnJdxov  "
      ]
     },
     "execution_count": 7,
     "metadata": {},
     "output_type": "execute_result"
    }
   ],
   "source": [
    "getSame(df3.loc[1])"
   ]
  },
  {
   "cell_type": "code",
   "execution_count": 6,
   "metadata": {},
   "outputs": [
    {
     "data": {
      "text/html": [
       "<div>\n",
       "<style scoped>\n",
       "    .dataframe tbody tr th:only-of-type {\n",
       "        vertical-align: middle;\n",
       "    }\n",
       "\n",
       "    .dataframe tbody tr th {\n",
       "        vertical-align: top;\n",
       "    }\n",
       "\n",
       "    .dataframe thead th {\n",
       "        text-align: right;\n",
       "    }\n",
       "</style>\n",
       "<table border=\"1\" class=\"dataframe\">\n",
       "  <thead>\n",
       "    <tr style=\"text-align: right;\">\n",
       "      <th></th>\n",
       "      <th>Id</th>\n",
       "      <th>Email</th>\n",
       "      <th>Phone</th>\n",
       "      <th>Contacts</th>\n",
       "      <th>OrderId</th>\n",
       "    </tr>\n",
       "  </thead>\n",
       "  <tbody>\n",
       "    <tr>\n",
       "      <th>1</th>\n",
       "      <td>1</td>\n",
       "      <td>None</td>\n",
       "      <td>329442681752</td>\n",
       "      <td>4</td>\n",
       "      <td>vDDJJcxfLtSfkooPhbYnJdxov</td>\n",
       "    </tr>\n",
       "    <tr>\n",
       "      <th>2458</th>\n",
       "      <td>2458</td>\n",
       "      <td>ULziZaVD@hotmail.com</td>\n",
       "      <td>069988936</td>\n",
       "      <td>1</td>\n",
       "      <td>vDDJJcxfLtSfkooPhbYnJdxov</td>\n",
       "    </tr>\n",
       "    <tr>\n",
       "      <th>98519</th>\n",
       "      <td>98519</td>\n",
       "      <td>ULziZaVD@hotmail.com</td>\n",
       "      <td>None</td>\n",
       "      <td>2</td>\n",
       "      <td>mwVhJZGKtahXEdLMwVLcOAxXG</td>\n",
       "    </tr>\n",
       "    <tr>\n",
       "      <th>115061</th>\n",
       "      <td>115061</td>\n",
       "      <td>JmMSyjzmxdelSmeAHBUi@yahoo.com</td>\n",
       "      <td>069988936</td>\n",
       "      <td>4</td>\n",
       "      <td>None</td>\n",
       "    </tr>\n",
       "    <tr>\n",
       "      <th>476346</th>\n",
       "      <td>476346</td>\n",
       "      <td>WXJDcOYGapCzchhwH@gmail.com</td>\n",
       "      <td>None</td>\n",
       "      <td>0</td>\n",
       "      <td>vDDJJcxfLtSfkooPhbYnJdxov</td>\n",
       "    </tr>\n",
       "  </tbody>\n",
       "</table>\n",
       "</div>"
      ],
      "text/plain": [
       "            Id                           Email         Phone  Contacts  \\\n",
       "1            1                            None  329442681752         4   \n",
       "2458      2458            ULziZaVD@hotmail.com     069988936         1   \n",
       "98519    98519            ULziZaVD@hotmail.com          None         2   \n",
       "115061  115061  JmMSyjzmxdelSmeAHBUi@yahoo.com     069988936         4   \n",
       "476346  476346     WXJDcOYGapCzchhwH@gmail.com          None         0   \n",
       "\n",
       "                          OrderId  \n",
       "1       vDDJJcxfLtSfkooPhbYnJdxov  \n",
       "2458    vDDJJcxfLtSfkooPhbYnJdxov  \n",
       "98519   mwVhJZGKtahXEdLMwVLcOAxXG  \n",
       "115061                       None  \n",
       "476346  vDDJJcxfLtSfkooPhbYnJdxov  "
      ]
     },
     "execution_count": 6,
     "metadata": {},
     "output_type": "execute_result"
    }
   ],
   "source": [
    "getSame(df3.loc[2458])"
   ]
  },
  {
   "cell_type": "code",
   "execution_count": 8,
   "metadata": {},
   "outputs": [
    {
     "data": {
      "text/html": [
       "<div>\n",
       "<style scoped>\n",
       "    .dataframe tbody tr th:only-of-type {\n",
       "        vertical-align: middle;\n",
       "    }\n",
       "\n",
       "    .dataframe tbody tr th {\n",
       "        vertical-align: top;\n",
       "    }\n",
       "\n",
       "    .dataframe thead th {\n",
       "        text-align: right;\n",
       "    }\n",
       "</style>\n",
       "<table border=\"1\" class=\"dataframe\">\n",
       "  <thead>\n",
       "    <tr style=\"text-align: right;\">\n",
       "      <th></th>\n",
       "      <th>Id</th>\n",
       "      <th>Email</th>\n",
       "      <th>Phone</th>\n",
       "      <th>Contacts</th>\n",
       "      <th>OrderId</th>\n",
       "    </tr>\n",
       "  </thead>\n",
       "  <tbody>\n",
       "    <tr>\n",
       "      <th>2458</th>\n",
       "      <td>2458</td>\n",
       "      <td>ULziZaVD@hotmail.com</td>\n",
       "      <td>069988936</td>\n",
       "      <td>1</td>\n",
       "      <td>vDDJJcxfLtSfkooPhbYnJdxov</td>\n",
       "    </tr>\n",
       "    <tr>\n",
       "      <th>98519</th>\n",
       "      <td>98519</td>\n",
       "      <td>ULziZaVD@hotmail.com</td>\n",
       "      <td>None</td>\n",
       "      <td>2</td>\n",
       "      <td>mwVhJZGKtahXEdLMwVLcOAxXG</td>\n",
       "    </tr>\n",
       "    <tr>\n",
       "      <th>165605</th>\n",
       "      <td>165605</td>\n",
       "      <td>xXwrpkygOe@yahoo.com</td>\n",
       "      <td>None</td>\n",
       "      <td>0</td>\n",
       "      <td>mwVhJZGKtahXEdLMwVLcOAxXG</td>\n",
       "    </tr>\n",
       "  </tbody>\n",
       "</table>\n",
       "</div>"
      ],
      "text/plain": [
       "            Id                 Email      Phone  Contacts  \\\n",
       "2458      2458  ULziZaVD@hotmail.com  069988936         1   \n",
       "98519    98519  ULziZaVD@hotmail.com       None         2   \n",
       "165605  165605  xXwrpkygOe@yahoo.com       None         0   \n",
       "\n",
       "                          OrderId  \n",
       "2458    vDDJJcxfLtSfkooPhbYnJdxov  \n",
       "98519   mwVhJZGKtahXEdLMwVLcOAxXG  \n",
       "165605  mwVhJZGKtahXEdLMwVLcOAxXG  "
      ]
     },
     "execution_count": 8,
     "metadata": {},
     "output_type": "execute_result"
    }
   ],
   "source": [
    "getSame(df3.loc[98519])"
   ]
  },
  {
   "cell_type": "code",
   "execution_count": 9,
   "metadata": {},
   "outputs": [
    {
     "data": {
      "text/html": [
       "<div>\n",
       "<style scoped>\n",
       "    .dataframe tbody tr th:only-of-type {\n",
       "        vertical-align: middle;\n",
       "    }\n",
       "\n",
       "    .dataframe tbody tr th {\n",
       "        vertical-align: top;\n",
       "    }\n",
       "\n",
       "    .dataframe thead th {\n",
       "        text-align: right;\n",
       "    }\n",
       "</style>\n",
       "<table border=\"1\" class=\"dataframe\">\n",
       "  <thead>\n",
       "    <tr style=\"text-align: right;\">\n",
       "      <th></th>\n",
       "      <th>Id</th>\n",
       "      <th>Email</th>\n",
       "      <th>Phone</th>\n",
       "      <th>Contacts</th>\n",
       "      <th>OrderId</th>\n",
       "    </tr>\n",
       "  </thead>\n",
       "  <tbody>\n",
       "    <tr>\n",
       "      <th>2458</th>\n",
       "      <td>2458</td>\n",
       "      <td>ULziZaVD@hotmail.com</td>\n",
       "      <td>069988936</td>\n",
       "      <td>1</td>\n",
       "      <td>vDDJJcxfLtSfkooPhbYnJdxov</td>\n",
       "    </tr>\n",
       "    <tr>\n",
       "      <th>115061</th>\n",
       "      <td>115061</td>\n",
       "      <td>JmMSyjzmxdelSmeAHBUi@yahoo.com</td>\n",
       "      <td>069988936</td>\n",
       "      <td>4</td>\n",
       "      <td>None</td>\n",
       "    </tr>\n",
       "  </tbody>\n",
       "</table>\n",
       "</div>"
      ],
      "text/plain": [
       "            Id                           Email      Phone  Contacts  \\\n",
       "2458      2458            ULziZaVD@hotmail.com  069988936         1   \n",
       "115061  115061  JmMSyjzmxdelSmeAHBUi@yahoo.com  069988936         4   \n",
       "\n",
       "                          OrderId  \n",
       "2458    vDDJJcxfLtSfkooPhbYnJdxov  \n",
       "115061                       None  "
      ]
     },
     "execution_count": 9,
     "metadata": {},
     "output_type": "execute_result"
    }
   ],
   "source": [
    "getSame(df3.loc[115061])"
   ]
  },
  {
   "cell_type": "code",
   "execution_count": 10,
   "metadata": {},
   "outputs": [
    {
     "data": {
      "text/html": [
       "<div>\n",
       "<style scoped>\n",
       "    .dataframe tbody tr th:only-of-type {\n",
       "        vertical-align: middle;\n",
       "    }\n",
       "\n",
       "    .dataframe tbody tr th {\n",
       "        vertical-align: top;\n",
       "    }\n",
       "\n",
       "    .dataframe thead th {\n",
       "        text-align: right;\n",
       "    }\n",
       "</style>\n",
       "<table border=\"1\" class=\"dataframe\">\n",
       "  <thead>\n",
       "    <tr style=\"text-align: right;\">\n",
       "      <th></th>\n",
       "      <th>Id</th>\n",
       "      <th>Email</th>\n",
       "      <th>Phone</th>\n",
       "      <th>Contacts</th>\n",
       "      <th>OrderId</th>\n",
       "    </tr>\n",
       "  </thead>\n",
       "  <tbody>\n",
       "    <tr>\n",
       "      <th>140081</th>\n",
       "      <td>140081</td>\n",
       "      <td>xXwrpkygOe@yahoo.com</td>\n",
       "      <td>None</td>\n",
       "      <td>1</td>\n",
       "      <td>None</td>\n",
       "    </tr>\n",
       "    <tr>\n",
       "      <th>165605</th>\n",
       "      <td>165605</td>\n",
       "      <td>xXwrpkygOe@yahoo.com</td>\n",
       "      <td>None</td>\n",
       "      <td>0</td>\n",
       "      <td>mwVhJZGKtahXEdLMwVLcOAxXG</td>\n",
       "    </tr>\n",
       "  </tbody>\n",
       "</table>\n",
       "</div>"
      ],
      "text/plain": [
       "            Id                 Email Phone  Contacts  \\\n",
       "140081  140081  xXwrpkygOe@yahoo.com  None         1   \n",
       "165605  165605  xXwrpkygOe@yahoo.com  None         0   \n",
       "\n",
       "                          OrderId  \n",
       "140081                       None  \n",
       "165605  mwVhJZGKtahXEdLMwVLcOAxXG  "
      ]
     },
     "execution_count": 10,
     "metadata": {},
     "output_type": "execute_result"
    }
   ],
   "source": [
    "getSame(df3.loc[140081])"
   ]
  },
  {
   "cell_type": "code",
   "execution_count": 11,
   "metadata": {},
   "outputs": [
    {
     "data": {
      "text/html": [
       "<div>\n",
       "<style scoped>\n",
       "    .dataframe tbody tr th:only-of-type {\n",
       "        vertical-align: middle;\n",
       "    }\n",
       "\n",
       "    .dataframe tbody tr th {\n",
       "        vertical-align: top;\n",
       "    }\n",
       "\n",
       "    .dataframe thead th {\n",
       "        text-align: right;\n",
       "    }\n",
       "</style>\n",
       "<table border=\"1\" class=\"dataframe\">\n",
       "  <thead>\n",
       "    <tr style=\"text-align: right;\">\n",
       "      <th></th>\n",
       "      <th>Id</th>\n",
       "      <th>Email</th>\n",
       "      <th>Phone</th>\n",
       "      <th>Contacts</th>\n",
       "      <th>OrderId</th>\n",
       "    </tr>\n",
       "  </thead>\n",
       "  <tbody>\n",
       "    <tr>\n",
       "      <th>98519</th>\n",
       "      <td>98519</td>\n",
       "      <td>ULziZaVD@hotmail.com</td>\n",
       "      <td>None</td>\n",
       "      <td>2</td>\n",
       "      <td>mwVhJZGKtahXEdLMwVLcOAxXG</td>\n",
       "    </tr>\n",
       "    <tr>\n",
       "      <th>140081</th>\n",
       "      <td>140081</td>\n",
       "      <td>xXwrpkygOe@yahoo.com</td>\n",
       "      <td>None</td>\n",
       "      <td>1</td>\n",
       "      <td>None</td>\n",
       "    </tr>\n",
       "    <tr>\n",
       "      <th>165605</th>\n",
       "      <td>165605</td>\n",
       "      <td>xXwrpkygOe@yahoo.com</td>\n",
       "      <td>None</td>\n",
       "      <td>0</td>\n",
       "      <td>mwVhJZGKtahXEdLMwVLcOAxXG</td>\n",
       "    </tr>\n",
       "  </tbody>\n",
       "</table>\n",
       "</div>"
      ],
      "text/plain": [
       "            Id                 Email Phone  Contacts  \\\n",
       "98519    98519  ULziZaVD@hotmail.com  None         2   \n",
       "140081  140081  xXwrpkygOe@yahoo.com  None         1   \n",
       "165605  165605  xXwrpkygOe@yahoo.com  None         0   \n",
       "\n",
       "                          OrderId  \n",
       "98519   mwVhJZGKtahXEdLMwVLcOAxXG  \n",
       "140081                       None  \n",
       "165605  mwVhJZGKtahXEdLMwVLcOAxXG  "
      ]
     },
     "execution_count": 11,
     "metadata": {},
     "output_type": "execute_result"
    }
   ],
   "source": [
    "getSame(df3.loc[165605])"
   ]
  },
  {
   "cell_type": "code",
   "execution_count": 12,
   "metadata": {},
   "outputs": [
    {
     "data": {
      "text/html": [
       "<div>\n",
       "<style scoped>\n",
       "    .dataframe tbody tr th:only-of-type {\n",
       "        vertical-align: middle;\n",
       "    }\n",
       "\n",
       "    .dataframe tbody tr th {\n",
       "        vertical-align: top;\n",
       "    }\n",
       "\n",
       "    .dataframe thead th {\n",
       "        text-align: right;\n",
       "    }\n",
       "</style>\n",
       "<table border=\"1\" class=\"dataframe\">\n",
       "  <thead>\n",
       "    <tr style=\"text-align: right;\">\n",
       "      <th></th>\n",
       "      <th>Id</th>\n",
       "      <th>Email</th>\n",
       "      <th>Phone</th>\n",
       "      <th>Contacts</th>\n",
       "      <th>OrderId</th>\n",
       "    </tr>\n",
       "  </thead>\n",
       "  <tbody>\n",
       "    <tr>\n",
       "      <th>1</th>\n",
       "      <td>1</td>\n",
       "      <td>None</td>\n",
       "      <td>329442681752</td>\n",
       "      <td>4</td>\n",
       "      <td>vDDJJcxfLtSfkooPhbYnJdxov</td>\n",
       "    </tr>\n",
       "    <tr>\n",
       "      <th>2458</th>\n",
       "      <td>2458</td>\n",
       "      <td>ULziZaVD@hotmail.com</td>\n",
       "      <td>069988936</td>\n",
       "      <td>1</td>\n",
       "      <td>vDDJJcxfLtSfkooPhbYnJdxov</td>\n",
       "    </tr>\n",
       "    <tr>\n",
       "      <th>476346</th>\n",
       "      <td>476346</td>\n",
       "      <td>WXJDcOYGapCzchhwH@gmail.com</td>\n",
       "      <td>None</td>\n",
       "      <td>0</td>\n",
       "      <td>vDDJJcxfLtSfkooPhbYnJdxov</td>\n",
       "    </tr>\n",
       "  </tbody>\n",
       "</table>\n",
       "</div>"
      ],
      "text/plain": [
       "            Id                        Email         Phone  Contacts  \\\n",
       "1            1                         None  329442681752         4   \n",
       "2458      2458         ULziZaVD@hotmail.com     069988936         1   \n",
       "476346  476346  WXJDcOYGapCzchhwH@gmail.com          None         0   \n",
       "\n",
       "                          OrderId  \n",
       "1       vDDJJcxfLtSfkooPhbYnJdxov  \n",
       "2458    vDDJJcxfLtSfkooPhbYnJdxov  \n",
       "476346  vDDJJcxfLtSfkooPhbYnJdxov  "
      ]
     },
     "execution_count": 12,
     "metadata": {},
     "output_type": "execute_result"
    }
   ],
   "source": [
    "getSame(df3.loc[476346])"
   ]
  },
  {
   "cell_type": "code",
   "execution_count": null,
   "metadata": {},
   "outputs": [],
   "source": []
  }
 ],
 "metadata": {
  "kernelspec": {
   "display_name": "Python 3",
   "language": "python",
   "name": "python3"
  },
  "language_info": {
   "codemirror_mode": {
    "name": "ipython",
    "version": 3
   },
   "file_extension": ".py",
   "mimetype": "text/x-python",
   "name": "python",
   "nbconvert_exporter": "python",
   "pygments_lexer": "ipython3",
   "version": "3.8.5"
  }
 },
 "nbformat": 4,
 "nbformat_minor": 4
}
